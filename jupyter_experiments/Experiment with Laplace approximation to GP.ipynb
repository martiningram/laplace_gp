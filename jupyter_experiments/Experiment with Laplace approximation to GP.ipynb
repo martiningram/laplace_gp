{
 "cells": [
  {
   "cell_type": "code",
   "execution_count": 1,
   "metadata": {},
   "outputs": [],
   "source": [
    "import tensorflow as tf\n",
    "import numpy as np\n",
    "from sdm_ml.dataset import BBSDataset\n",
    "from sklearn.preprocessing import StandardScaler\n",
    "from block_diag import block_diagonal\n",
    "from kernels import ard_rbf_kernel\n",
    "import matplotlib.pyplot as plt\n",
    "%matplotlib inline"
   ]
  },
  {
   "cell_type": "code",
   "execution_count": 2,
   "metadata": {},
   "outputs": [],
   "source": [
    "csv_folder = '../../multi_species/bbs/dataset/csv_bird_data/'\n",
    "dataset = BBSDataset(csv_folder)"
   ]
  },
  {
   "cell_type": "code",
   "execution_count": 3,
   "metadata": {},
   "outputs": [],
   "source": [
    "training_set = dataset.get_training_set()"
   ]
  },
  {
   "cell_type": "code",
   "execution_count": 4,
   "metadata": {},
   "outputs": [
    {
     "data": {
      "text/plain": [
       "dict_keys(['covariates', 'outcomes'])"
      ]
     },
     "execution_count": 4,
     "metadata": {},
     "output_type": "execute_result"
    }
   ],
   "source": [
    "training_set.keys()"
   ]
  },
  {
   "cell_type": "code",
   "execution_count": 5,
   "metadata": {},
   "outputs": [
    {
     "data": {
      "text/plain": [
       "Mourning Dove           1356\n",
       "American Robin          1341\n",
       "Red-winged Blackbird    1283\n",
       "Brown-headed Cowbird    1229\n",
       "American Crow           1224\n",
       "dtype: int64"
      ]
     },
     "execution_count": 5,
     "metadata": {},
     "output_type": "execute_result"
    }
   ],
   "source": [
    "training_set['outcomes'].sum().sort_values(ascending=False).head()"
   ]
  },
  {
   "cell_type": "code",
   "execution_count": 6,
   "metadata": {},
   "outputs": [
    {
     "data": {
      "text/plain": [
       "(1612, 371)"
      ]
     },
     "execution_count": 6,
     "metadata": {},
     "output_type": "execute_result"
    }
   ],
   "source": [
    "training_set['outcomes'].shape"
   ]
  },
  {
   "cell_type": "code",
   "execution_count": 7,
   "metadata": {},
   "outputs": [
    {
     "name": "stderr",
     "output_type": "stream",
     "text": [
      "/anaconda2/envs/py3/lib/python3.6/site-packages/sklearn/utils/validation.py:475: DataConversionWarning: Data with input dtype int64 was converted to float64 by StandardScaler.\n",
      "  warnings.warn(msg, DataConversionWarning)\n"
     ]
    }
   ],
   "source": [
    "from sklearn.preprocessing import StandardScaler\n",
    "\n",
    "scaler = StandardScaler()\n",
    "\n",
    "covariates = scaler.fit_transform(training_set['covariates'].values)\n",
    "outcomes = training_set['outcomes'][['American Crow', 'Brown-headed Cowbird']]\n",
    "\n",
    "scaler = StandardScaler()\n",
    "\n",
    "# Keep only the first 200 rows and 2 outcomes for this test\n",
    "covariates = scaler.fit_transform(covariates.astype(np.float32))[:500, :]\n",
    "outcomes = outcomes.values[:500, :1]"
   ]
  },
  {
   "cell_type": "code",
   "execution_count": 8,
   "metadata": {},
   "outputs": [
    {
     "data": {
      "text/plain": [
       "(500, 8)"
      ]
     },
     "execution_count": 8,
     "metadata": {},
     "output_type": "execute_result"
    }
   ],
   "source": [
    "covariates.shape"
   ]
  },
  {
   "cell_type": "code",
   "execution_count": 9,
   "metadata": {},
   "outputs": [],
   "source": [
    "n_features = covariates.shape[1]\n",
    "n_outcomes = outcomes.shape[1]\n",
    "kern_size = covariates.shape[0] * n_outcomes"
   ]
  },
  {
   "cell_type": "code",
   "execution_count": 10,
   "metadata": {},
   "outputs": [],
   "source": [
    "# Next steps:\n",
    "# 1. Implement the ARD RBF kernel in tensorflow.\n",
    "# 2. Implement the site kernel in tensorflow (should have derivation). --> Actually, defer this for now and just use the ARD.\n",
    "# 3. Check that they look reasonable, maybe even on a super-small set.\n",
    "# 4. Try to optimise with fixed hyperparameters.\n",
    "# 5. Try to optimise the hyperparameters in an outer loop (Laplace approx.).\n",
    "# 6. Compare speeds of sparse vs. non-sparse versions."
   ]
  },
  {
   "cell_type": "code",
   "execution_count": 11,
   "metadata": {},
   "outputs": [],
   "source": [
    "# Invent some length scales and variances\n",
    "lengthscales = np.array([\n",
    "    [4., 5., 2., 8., 3., 9., 5., 3.],\n",
    "    [2., 8., 9., 3., 3., 4., 9., 7.]\n",
    "])\n",
    "\n",
    "alphas = np.array([1., 2.])"
   ]
  },
  {
   "cell_type": "code",
   "execution_count": 12,
   "metadata": {},
   "outputs": [
    {
     "name": "stdout",
     "output_type": "stream",
     "text": [
      "INFO:tensorflow:Optimization terminated with:\n",
      "  Message: b'CONVERGENCE: REL_REDUCTION_OF_F_<=_FACTR*EPSMCH'\n",
      "  Objective function value: 192.982645\n",
      "  Number of iterations: 38\n",
      "  Number of functions evaluations: 43\n"
     ]
    },
    {
     "name": "stderr",
     "output_type": "stream",
     "text": [
      "INFO:tensorflow:Optimization terminated with:\n",
      "  Message: b'CONVERGENCE: REL_REDUCTION_OF_F_<=_FACTR*EPSMCH'\n",
      "  Objective function value: 192.982645\n",
      "  Number of iterations: 38\n",
      "  Number of functions evaluations: 43\n"
     ]
    },
    {
     "data": {
      "text/html": [
       "<div>\n",
       "<style scoped>\n",
       "    .dataframe tbody tr th:only-of-type {\n",
       "        vertical-align: middle;\n",
       "    }\n",
       "\n",
       "    .dataframe tbody tr th {\n",
       "        vertical-align: top;\n",
       "    }\n",
       "\n",
       "    .dataframe thead th {\n",
       "        text-align: right;\n",
       "    }\n",
       "</style>\n",
       "<table border=\"1\" class=\"dataframe\">\n",
       "  <thead>\n",
       "    <tr style=\"text-align: right;\">\n",
       "      <th></th>\n",
       "      <th>class</th>\n",
       "      <th>prior</th>\n",
       "      <th>transform</th>\n",
       "      <th>trainable</th>\n",
       "      <th>shape</th>\n",
       "      <th>fixed_shape</th>\n",
       "      <th>value</th>\n",
       "    </tr>\n",
       "  </thead>\n",
       "  <tbody>\n",
       "    <tr>\n",
       "      <th>VGP/kern/variance</th>\n",
       "      <td>Parameter</td>\n",
       "      <td>None</td>\n",
       "      <td>+ve</td>\n",
       "      <td>False</td>\n",
       "      <td>()</td>\n",
       "      <td>True</td>\n",
       "      <td>1.0</td>\n",
       "    </tr>\n",
       "    <tr>\n",
       "      <th>VGP/kern/lengthscales</th>\n",
       "      <td>Parameter</td>\n",
       "      <td>None</td>\n",
       "      <td>+ve</td>\n",
       "      <td>False</td>\n",
       "      <td>(8,)</td>\n",
       "      <td>True</td>\n",
       "      <td>[4.0, 5.0, 2.0, 8.0, 3.0, 9.0, 5.0, 3.0]</td>\n",
       "    </tr>\n",
       "    <tr>\n",
       "      <th>VGP/q_mu</th>\n",
       "      <td>Parameter</td>\n",
       "      <td>None</td>\n",
       "      <td>(none)</td>\n",
       "      <td>True</td>\n",
       "      <td>(500, 1)</td>\n",
       "      <td>True</td>\n",
       "      <td>[[0.23538758788056366], [2.3149350597008214], ...</td>\n",
       "    </tr>\n",
       "    <tr>\n",
       "      <th>VGP/q_sqrt</th>\n",
       "      <td>Parameter</td>\n",
       "      <td>None</td>\n",
       "      <td>LoTri-&gt;vec</td>\n",
       "      <td>True</td>\n",
       "      <td>(1, 500, 500)</td>\n",
       "      <td>True</td>\n",
       "      <td>[[[0.2246174114819431, 0.0, 0.0, 0.0, 0.0, 0.0...</td>\n",
       "    </tr>\n",
       "  </tbody>\n",
       "</table>\n",
       "</div>"
      ],
      "text/plain": [
       "                           class prior   transform  trainable          shape  \\\n",
       "VGP/kern/variance      Parameter  None         +ve      False             ()   \n",
       "VGP/kern/lengthscales  Parameter  None         +ve      False           (8,)   \n",
       "VGP/q_mu               Parameter  None      (none)       True       (500, 1)   \n",
       "VGP/q_sqrt             Parameter  None  LoTri->vec       True  (1, 500, 500)   \n",
       "\n",
       "                       fixed_shape  \\\n",
       "VGP/kern/variance             True   \n",
       "VGP/kern/lengthscales         True   \n",
       "VGP/q_mu                      True   \n",
       "VGP/q_sqrt                    True   \n",
       "\n",
       "                                                                   value  \n",
       "VGP/kern/variance                                                    1.0  \n",
       "VGP/kern/lengthscales           [4.0, 5.0, 2.0, 8.0, 3.0, 9.0, 5.0, 3.0]  \n",
       "VGP/q_mu               [[0.23538758788056366], [2.3149350597008214], ...  \n",
       "VGP/q_sqrt             [[[0.2246174114819431, 0.0, 0.0, 0.0, 0.0, 0.0...  "
      ]
     },
     "execution_count": 12,
     "metadata": {},
     "output_type": "execute_result"
    }
   ],
   "source": [
    "# Let's check what should happen with GPFLow\n",
    "import gpflow\n",
    "\n",
    "kern = gpflow.kernels.RBF(8, active_dims=range(8), lengthscales=lengthscales[0, :],\n",
    "                          variance=alphas[0]**2)\n",
    "kern.lengthscales.set_trainable(False)\n",
    "kern.variance.set_trainable(False)\n",
    "likelihood = gpflow.likelihoods.Bernoulli()\n",
    "\n",
    "model = gpflow.models.VGP(covariates.astype(np.float64), outcomes[:, [0]].astype(np.float64), kern=kern, \n",
    "                          likelihood=likelihood)\n",
    "\n",
    "gpflow.train.ScipyOptimizer().minimize(model, maxiter=100, disp=True)\n",
    "\n",
    "pred = model.predict_f(covariates.astype(np.float64))[0]\n",
    "\n",
    "model.as_pandas_table()"
   ]
  },
  {
   "cell_type": "code",
   "execution_count": 13,
   "metadata": {},
   "outputs": [],
   "source": [
    "k_sess = kern.enquire_session()\n",
    "gpflow_kernel = k_sess.run(kern.K(covariates.astype(np.float64)))"
   ]
  },
  {
   "cell_type": "code",
   "execution_count": 14,
   "metadata": {},
   "outputs": [],
   "source": [
    "\n",
    "\n",
    "#block_kernel = sess.run(block_kern, feed_dict={X: covariates})"
   ]
  },
  {
   "cell_type": "code",
   "execution_count": 15,
   "metadata": {},
   "outputs": [],
   "source": [
    "#plt.matshow(block_kernel)\n",
    "#plt.colorbar()"
   ]
  },
  {
   "cell_type": "code",
   "execution_count": 16,
   "metadata": {},
   "outputs": [],
   "source": [
    "tf.reset_default_graph()\n",
    "\n",
    "X = tf.placeholder(tf.float32, shape=(None, n_features))\n",
    "y = tf.placeholder(tf.int64, shape=(None, n_outcomes))\n",
    "\n",
    "y_flat = tf.cast(tf.reshape(y, (-1,)), tf.float32)\n",
    "\n",
    "tf_scales = tf.Variable(initial_value=lengthscales, dtype=tf.float32)\n",
    "tf_alphas = tf.Variable(initial_value=alphas, dtype=tf.float32)\n",
    "\n",
    "ks = list()\n",
    "\n",
    "# Maybe there would be a more efficient way for large numbers of species than doing it via this list.\n",
    "\n",
    "for cur_k in range(n_outcomes):\n",
    "    \n",
    "    cur_scales = tf_scales[cur_k, :]\n",
    "    cur_alpha = tf_alphas[cur_k]    \n",
    "    cur_kernel = ard_rbf_kernel(X, X, cur_scales, cur_alpha)\n",
    "    ks.append(cur_kernel)\n",
    "    \n",
    "block_kern = block_diagonal(ks)"
   ]
  },
  {
   "cell_type": "code",
   "execution_count": 17,
   "metadata": {},
   "outputs": [],
   "source": [
    "f = tf.get_variable('f', shape=(kern_size, 1), initializer=tf.random_normal_initializer(stddev=0.01))"
   ]
  },
  {
   "cell_type": "code",
   "execution_count": 18,
   "metadata": {},
   "outputs": [],
   "source": [
    "inv_kernel = tf.linalg.inv(block_kern)"
   ]
  },
  {
   "cell_type": "code",
   "execution_count": 19,
   "metadata": {},
   "outputs": [],
   "source": [
    "log_prior = -0.5 * tf.matmul(tf.matmul(tf.transpose(f), inv_kernel), f)\n",
    "\n",
    "# Log likelihood\n",
    "log_lik = tf.reduce_sum(tf.expand_dims(y_flat, 1) * f - tf.nn.softplus(f))\n",
    "log_post = tf.squeeze(log_prior) + log_lik\n",
    "log_lik_naive = tf.expand_dims(y_flat, 1) * tf.log_sigmoid(f) + (1 - tf.expand_dims(y_flat, 1)) * tf.log(1 - tf.sigmoid(f))"
   ]
  },
  {
   "cell_type": "code",
   "execution_count": 20,
   "metadata": {},
   "outputs": [],
   "source": [
    "sess = tf.Session()\n",
    "sess.run(tf.global_variables_initializer())\n",
    "optimiser = tf.contrib.opt.ScipyOptimizerInterface(\n",
    "    -log_post, var_list=[f], options={'maxiter': 1000, 'disp': True})"
   ]
  },
  {
   "cell_type": "code",
   "execution_count": 21,
   "metadata": {},
   "outputs": [],
   "source": [
    "non_gpflow_k = sess.run(ks[0], feed_dict={X: covariates})"
   ]
  },
  {
   "cell_type": "code",
   "execution_count": 22,
   "metadata": {},
   "outputs": [
    {
     "data": {
      "text/plain": [
       "(array([249500.,      0.,      0.,      0.,      0.,      0.,      0.,\n",
       "             0.,      0.,    500.]),\n",
       " array([-9.42243907e-08,  9.16556081e-07,  1.92733655e-06,  2.93811702e-06,\n",
       "         3.94889749e-06,  4.95967797e-06,  5.97045844e-06,  6.98123891e-06,\n",
       "         7.99201938e-06,  9.00279985e-06,  1.00135803e-05]),\n",
       " <a list of 10 Patch objects>)"
      ]
     },
     "execution_count": 22,
     "metadata": {},
     "output_type": "execute_result"
    },
    {
     "data": {
      "image/png": "[encoded data removed]",
      "text/plain": [
       "<Figure size 432x288 with 1 Axes>"
      ]
     },
     "metadata": {
      "image/png": {
       "height": 250,
       "width": 403
      }
     },
     "output_type": "display_data"
    }
   ],
   "source": [
    "plt.hist((non_gpflow_k - gpflow_kernel).reshape(-1))"
   ]
  },
  {
   "cell_type": "code",
   "execution_count": 23,
   "metadata": {},
   "outputs": [],
   "source": [
    "probs = tf.nn.sigmoid(f)\n",
    "W = -probs * (probs - 1)\n",
    "W_sqrt = tf.diag(tf.squeeze(tf.sqrt(W)))\n",
    "multiplied = tf.matmul(tf.matmul(W_sqrt, block_kern), W_sqrt)\n",
    "\n",
    "# Add on the identity\n",
    "with_id = tf.eye(kern_size) + multiplied\n",
    "det_term = tf.linalg.logdet(with_id)"
   ]
  },
  {
   "cell_type": "code",
   "execution_count": 24,
   "metadata": {},
   "outputs": [],
   "source": [
    "log_marg_lik = tf.squeeze(log_prior) + log_lik - 0.5 * det_term\n",
    "\n",
    "marg_opt = tf.contrib.opt.ScipyOptimizerInterface(\n",
    "    -log_marg_lik, var_list=[tf_alphas, tf_scales], options={'maxiter': 100, 'disp': True})"
   ]
  },
  {
   "cell_type": "code",
   "execution_count": 25,
   "metadata": {},
   "outputs": [
    {
     "name": "stdout",
     "output_type": "stream",
     "text": [
      "INFO:tensorflow:Optimization terminated with:\n",
      "  Message: b'CONVERGENCE: REL_REDUCTION_OF_F_<=_FACTR*EPSMCH'\n",
      "  Objective function value: 241.863388\n",
      "  Number of iterations: 308\n",
      "  Number of functions evaluations: 338\n"
     ]
    },
    {
     "name": "stderr",
     "output_type": "stream",
     "text": [
      "INFO:tensorflow:Optimization terminated with:\n",
      "  Message: b'CONVERGENCE: REL_REDUCTION_OF_F_<=_FACTR*EPSMCH'\n",
      "  Objective function value: 241.863388\n",
      "  Number of iterations: 308\n",
      "  Number of functions evaluations: 338\n"
     ]
    }
   ],
   "source": [
    "optimiser.minimize(sess, feed_dict={X: covariates, y: outcomes})"
   ]
  },
  {
   "cell_type": "code",
   "execution_count": 26,
   "metadata": {},
   "outputs": [],
   "source": [
    "f_opt = sess.run(f).reshape(-1, 1)"
   ]
  },
  {
   "cell_type": "code",
   "execution_count": 27,
   "metadata": {},
   "outputs": [
    {
     "data": {
      "text/plain": [
       "Text(0,0.5,'VGP')"
      ]
     },
     "execution_count": 27,
     "metadata": {},
     "output_type": "execute_result"
    },
    {
     "data": {
      "image/png": "[encoded data removed]",
      "text/plain": [
       "<Figure size 432x288 with 1 Axes>"
      ]
     },
     "metadata": {
      "image/png": {
       "height": 263,
       "width": 386
      }
     },
     "output_type": "display_data"
    }
   ],
   "source": [
    "plt.scatter(np.squeeze(f_opt[:, 0]), np.squeeze(pred))\n",
    "plt.plot([np.min(f_opt), np.max(f_opt)], [np.min(f_opt), np.max(f_opt)])\n",
    "plt.xlabel('Laplace')\n",
    "plt.ylabel('VGP')"
   ]
  },
  {
   "cell_type": "code",
   "execution_count": null,
   "metadata": {},
   "outputs": [],
   "source": []
  }
 ],
 "metadata": {
  "kernelspec": {
   "display_name": "Python 3",
   "language": "python",
   "name": "python3"
  },
  "language_info": {
   "codemirror_mode": {
    "name": "ipython",
    "version": 3
   },
   "file_extension": ".py",
   "mimetype": "text/x-python",
   "name": "python",
   "nbconvert_exporter": "python",
   "pygments_lexer": "ipython3",
   "version": "3.6.4"
  }
 },
 "nbformat": 4,
 "nbformat_minor": 2
}

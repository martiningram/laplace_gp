{
 "cells": [
  {
   "cell_type": "code",
   "execution_count": 1,
   "metadata": {},
   "outputs": [],
   "source": [
    "import numpy as np\n",
    "from sdm_ml.dataset import BBSDataset\n",
    "from sklearn.preprocessing import StandardScaler\n",
    "import matplotlib.pyplot as plt\n",
    "%matplotlib inline\n",
    "from sparse_gp.kernels.rbf_kernel import RBFKernel\n",
    "from sparse_gp.likelihoods.bernoulli_logit_likelihood import BernoulliLogitLikelihood\n",
    "from sparse_gp.inference.laplace_inference import LaplaceInference"
   ]
  },
  {
   "cell_type": "code",
   "execution_count": 2,
   "metadata": {},
   "outputs": [],
   "source": [
    "csv_folder = '../../../multi_species/bbs/dataset/csv_bird_data/'\n",
    "dataset = BBSDataset(csv_folder)"
   ]
  },
  {
   "cell_type": "code",
   "execution_count": 3,
   "metadata": {},
   "outputs": [],
   "source": [
    "training_set = dataset.get_training_set()"
   ]
  },
  {
   "cell_type": "code",
   "execution_count": 4,
   "metadata": {},
   "outputs": [
    {
     "name": "stderr",
     "output_type": "stream",
     "text": [
      "/anaconda2/envs/py3/lib/python3.6/site-packages/sklearn/utils/validation.py:475: DataConversionWarning: Data with input dtype int64 was converted to float64 by StandardScaler.\n",
      "  warnings.warn(msg, DataConversionWarning)\n"
     ]
    }
   ],
   "source": [
    "from sklearn.preprocessing import StandardScaler\n",
    "\n",
    "scaler = StandardScaler()\n",
    "\n",
    "covariates = scaler.fit_transform(training_set['covariates'].values)\n",
    "outcomes = training_set['outcomes'][['American Crow', 'Brown-headed Cowbird']]\n",
    "\n",
    "scaler = StandardScaler()\n",
    "\n",
    "# Keep only the first 200 rows and 2 outcomes for this test\n",
    "covariates = scaler.fit_transform(covariates.astype(np.float32))[:400, :]\n",
    "outcomes = outcomes.values[:400, 0].astype(float)"
   ]
  },
  {
   "cell_type": "code",
   "execution_count": 5,
   "metadata": {},
   "outputs": [],
   "source": [
    "kernel = RBFKernel(np.arange(covariates.shape[1]))"
   ]
  },
  {
   "cell_type": "code",
   "execution_count": 6,
   "metadata": {},
   "outputs": [],
   "source": [
    "likelihood = BernoulliLogitLikelihood()"
   ]
  },
  {
   "cell_type": "code",
   "execution_count": 7,
   "metadata": {},
   "outputs": [],
   "source": [
    "inference = LaplaceInference(kernel, likelihood)"
   ]
  },
  {
   "cell_type": "code",
   "execution_count": null,
   "metadata": {},
   "outputs": [
    {
     "name": "stdout",
     "output_type": "stream",
     "text": [
      "-167.81994588725541\n",
      "[ 5.46983997  1.90230259  6.46902399  4.74285725  4.97081146  5.33023075\n",
      "  3.22413107  2.45889149 37.68567064]\n",
      "-167.81994588725541\n",
      "[ 5.46983997  1.90230259  6.46902399  4.74285725  4.97081146  5.33023075\n",
      "  3.22413107  2.45889149 37.68567064]\n",
      "-147.88393116456413\n",
      "[3.13893172 0.38153163 3.97149789 2.69987186 3.28274496 2.64465199\n",
      " 3.92692491 2.10981342 6.13262649]\n",
      "-137.2004179506834\n",
      "[-0.60095293 -0.44113438 -0.72053058  0.76743306 -0.43877213 -0.17028666\n",
      "  1.44543734  0.18551395 -0.8176729 ]\n"
     ]
    }
   ],
   "source": [
    "inference.fit(covariates, outcomes)"
   ]
  },
  {
   "cell_type": "code",
   "execution_count": null,
   "metadata": {},
   "outputs": [],
   "source": [
    "inference.kernel.lengthscales"
   ]
  },
  {
   "cell_type": "code",
   "execution_count": null,
   "metadata": {},
   "outputs": [],
   "source": [
    "inference.kernel.stdev"
   ]
  },
  {
   "cell_type": "code",
   "execution_count": null,
   "metadata": {},
   "outputs": [],
   "source": []
  }
 ],
 "metadata": {
  "kernelspec": {
   "display_name": "Python 3",
   "language": "python",
   "name": "python3"
  },
  "language_info": {
   "codemirror_mode": {
    "name": "ipython",
    "version": 3
   },
   "file_extension": ".py",
   "mimetype": "text/x-python",
   "name": "python",
   "nbconvert_exporter": "python",
   "pygments_lexer": "ipython3",
   "version": "3.6.4"
  }
 },
 "nbformat": 4,
 "nbformat_minor": 2
}

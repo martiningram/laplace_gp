{
 "cells": [
  {
   "cell_type": "code",
   "execution_count": 1,
   "metadata": {},
   "outputs": [],
   "source": [
    "import numpy as np\n",
    "from sdm_ml.dataset import BBSDataset\n",
    "from sklearn.preprocessing import StandardScaler\n",
    "import matplotlib.pyplot as plt\n",
    "%matplotlib inline\n",
    "from sparse_gp.kernels.rbf_kernel import RBFKernel\n",
    "from sparse_gp.likelihoods.bernoulli_logit_likelihood import BernoulliLogitLikelihood\n",
    "from sparse_gp.inference.laplace_inference import LaplaceInference"
   ]
  },
  {
   "cell_type": "code",
   "execution_count": 2,
   "metadata": {},
   "outputs": [],
   "source": [
    "csv_folder = '../../../multi_species/bbs/dataset/csv_bird_data/'\n",
    "dataset = BBSDataset(csv_folder)"
   ]
  },
  {
   "cell_type": "code",
   "execution_count": 3,
   "metadata": {},
   "outputs": [],
   "source": [
    "training_set = dataset.get_training_set()"
   ]
  },
  {
   "cell_type": "code",
   "execution_count": 4,
   "metadata": {},
   "outputs": [
    {
     "name": "stderr",
     "output_type": "stream",
     "text": [
      "/anaconda2/envs/py3/lib/python3.6/site-packages/sklearn/utils/validation.py:475: DataConversionWarning: Data with input dtype int64 was converted to float64 by StandardScaler.\n",
      "  warnings.warn(msg, DataConversionWarning)\n"
     ]
    }
   ],
   "source": [
    "from sklearn.preprocessing import StandardScaler\n",
    "\n",
    "scaler = StandardScaler()\n",
    "\n",
    "covariates = scaler.fit_transform(training_set['covariates'].values)\n",
    "outcomes = training_set['outcomes'][['American Crow', 'Brown-headed Cowbird']]\n",
    "\n",
    "scaler = StandardScaler()\n",
    "\n",
    "# Keep only the first 200 rows and 2 outcomes for this test\n",
    "covariates = scaler.fit_transform(covariates.astype(np.float32))[:400, :]\n",
    "outcomes = outcomes.values[:400, 0].astype(float)"
   ]
  },
  {
   "cell_type": "code",
   "execution_count": 5,
   "metadata": {},
   "outputs": [],
   "source": [
    "kernel = RBFKernel(np.arange(covariates.shape[1]))"
   ]
  },
  {
   "cell_type": "code",
   "execution_count": 6,
   "metadata": {},
   "outputs": [],
   "source": [
    "likelihood = BernoulliLogitLikelihood()"
   ]
  },
  {
   "cell_type": "code",
   "execution_count": 7,
   "metadata": {},
   "outputs": [],
   "source": [
    "inference = LaplaceInference(kernel, likelihood)"
   ]
  },
  {
   "cell_type": "code",
   "execution_count": 8,
   "metadata": {},
   "outputs": [
    {
     "data": {
      "text/plain": [
       "     fun: 134.3096985524034\n",
       "     jac: array([ 0.0033701 , -0.00278071, -0.00457415,  0.00495218, -0.00149001,\n",
       "       -0.0050676 , -0.00067056, -0.00125234,  0.00093228])\n",
       " message: 'Optimization terminated successfully.'\n",
       "    nfev: 36\n",
       "     nit: 23\n",
       "    njev: 36\n",
       "  status: 0\n",
       " success: True\n",
       "       x: array([1.75226944, 1.33966753, 1.95363043, 3.33545919, 1.78563632,\n",
       "       2.10719388, 7.92792975, 1.63052969, 3.89035918])"
      ]
     },
     "execution_count": 8,
     "metadata": {},
     "output_type": "execute_result"
    }
   ],
   "source": [
    "inference.fit(covariates, outcomes)"
   ]
  },
  {
   "cell_type": "code",
   "execution_count": 9,
   "metadata": {},
   "outputs": [
    {
     "data": {
      "text/plain": [
       "array([1.75226944, 1.33966753, 1.95363043, 3.33545919, 1.78563632,\n",
       "       2.10719388, 7.92792975, 1.63052969])"
      ]
     },
     "execution_count": 9,
     "metadata": {},
     "output_type": "execute_result"
    }
   ],
   "source": [
    "inference.kernel.lengthscales"
   ]
  },
  {
   "cell_type": "code",
   "execution_count": 10,
   "metadata": {},
   "outputs": [
    {
     "data": {
      "text/plain": [
       "3.8903591790404266"
      ]
     },
     "execution_count": 10,
     "metadata": {},
     "output_type": "execute_result"
    }
   ],
   "source": [
    "inference.kernel.stdev"
   ]
  },
  {
   "cell_type": "code",
   "execution_count": null,
   "metadata": {},
   "outputs": [],
   "source": []
  }
 ],
 "metadata": {
  "kernelspec": {
   "display_name": "Python 3",
   "language": "python",
   "name": "python3"
  },
  "language_info": {
   "codemirror_mode": {
    "name": "ipython",
    "version": 3
   },
   "file_extension": ".py",
   "mimetype": "text/x-python",
   "name": "python",
   "nbconvert_exporter": "python",
   "pygments_lexer": "ipython3",
   "version": "3.6.4"
  }
 },
 "nbformat": 4,
 "nbformat_minor": 2
}
